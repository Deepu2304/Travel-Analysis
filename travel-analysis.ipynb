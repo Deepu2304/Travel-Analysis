{
 "cells": [
  {
   "cell_type": "code",
   "execution_count": null,
   "id": "82de9060",
   "metadata": {},
   "outputs": [],
   "source": [
    "import numpy as np\n",
    "import pandas as pd \n",
    "import matplotlib.pyplot as plt\n",
    "import seaborn as sns\n",
    "sns.set_theme(style=\"whitegrid\")"
   ]
  },
  {
   "cell_type": "code",
   "execution_count": null,
   "id": "e8aa81ed",
   "metadata": {},
   "outputs": [],
   "source": [
    "travel_path = \"/Users/jaideepsai/Desktop/DATA-ANALYTICS/Data Source/extracted-data/Travel/Top Indian Places to Visit.csv\"\n",
    "travel_data = pd.read_csv(travel_path)\n",
    "travel_data.head()"
   ]
  },
  {
   "cell_type": "code",
   "execution_count": null,
   "id": "b69232ac",
   "metadata": {},
   "outputs": [],
   "source": [
    "travel_data.sample(10)"
   ]
  },
  {
   "cell_type": "code",
   "execution_count": null,
   "id": "ed9ffc3a",
   "metadata": {},
   "outputs": [],
   "source": [
    "travel_data['Name'].value_counts()"
   ]
  },
  {
   "cell_type": "code",
   "execution_count": null,
   "id": "2d9785b6",
   "metadata": {},
   "outputs": [],
   "source": [
    "travel_data.info()"
   ]
  },
  {
   "cell_type": "code",
   "execution_count": null,
   "id": "d5c3d7c4",
   "metadata": {},
   "outputs": [],
   "source": [
    "travel_data.describe()"
   ]
  },
  {
   "cell_type": "code",
   "execution_count": null,
   "id": "67983185",
   "metadata": {},
   "outputs": [],
   "source": [
    "travel_data.isnull().sum()"
   ]
  },
  {
   "cell_type": "code",
   "execution_count": null,
   "id": "c4689442",
   "metadata": {},
   "outputs": [],
   "source": [
    "travel_data['Weekly Off'].value_counts()"
   ]
  },
  {
   "cell_type": "code",
   "execution_count": null,
   "id": "c0eee424",
   "metadata": {},
   "outputs": [],
   "source": [
    "travel_data['Weekly Off'].fillna('nan', inplace=True)"
   ]
  },
  {
   "cell_type": "code",
   "execution_count": null,
   "id": "bd63b578",
   "metadata": {},
   "outputs": [],
   "source": [
    "travel_data.isnull().sum()"
   ]
  },
  {
   "cell_type": "code",
   "execution_count": null,
   "id": "8661d5ce",
   "metadata": {},
   "outputs": [],
   "source": [
    "travel_data.drop('Unnamed: 0', axis=1, inplace=True)"
   ]
  },
  {
   "cell_type": "code",
   "execution_count": null,
   "id": "8f1048ca",
   "metadata": {
    "scrolled": true
   },
   "outputs": [],
   "source": [
    "travel_data.isnull().sum()"
   ]
  },
  {
   "cell_type": "markdown",
   "id": "0028c62c",
   "metadata": {},
   "source": [
    "# NUMBER OF LANDMARKS BY STATE "
   ]
  },
  {
   "cell_type": "code",
   "execution_count": null,
   "id": "31f89f8b",
   "metadata": {},
   "outputs": [],
   "source": [
    "landmarks_by_state = travel_data.groupby('State')['Name'].count().sort_values(ascending=False)\n",
    "\n",
    "plt.figure(figsize=(12, 8), dpi=200)\n",
    "landmarks_by_state.plot(kind='bar')\n",
    "plt.title('Number of Landmarks by State')\n",
    "plt.xlabel('State')\n",
    "plt.ylabel('Number of Landmarks')\n",
    "plt.xticks(rotation=45, ha=\"right\")\n",
    "plt.show()"
   ]
  },
  {
   "cell_type": "markdown",
   "id": "9ba5929d",
   "metadata": {},
   "source": [
    "# STATE WITH MOST VISITING PLACES "
   ]
  },
  {
   "cell_type": "code",
   "execution_count": null,
   "id": "9bae684f",
   "metadata": {
    "scrolled": false
   },
   "outputs": [],
   "source": [
    "plt.figure(figsize=(10,10))\n",
    "sns.countplot( y = 'State', data = travel_data)"
   ]
  },
  {
   "cell_type": "markdown",
   "id": "d2befc85",
   "metadata": {},
   "source": [
    "# THE TOP 5 GOOGLE RATED VISITING PLACES TYPES "
   ]
  },
  {
   "cell_type": "code",
   "execution_count": null,
   "id": "66108a58",
   "metadata": {},
   "outputs": [],
   "source": [
    "top_5_names = travel_data['Significance'].value_counts().head(5).index\n",
    "top_5_rating_place = travel_data[travel_data['Significance'].isin(top_5_names)]\n",
    "\n",
    "plt.figure(figsize=(20, 10))\n",
    "sns.countplot(x='Google review rating', hue='Significance', data=top_5_rating_place)\n",
    "plt.title('Top 5 Rated Place Types')\n",
    "plt.show()"
   ]
  },
  {
   "cell_type": "markdown",
   "id": "0de81029",
   "metadata": {},
   "source": [
    "# BEST TIME TO VISIT PLACES"
   ]
  },
  {
   "cell_type": "code",
   "execution_count": null,
   "id": "546b17d6",
   "metadata": {},
   "outputs": [],
   "source": [
    "top_5_city = travel_data['Name'].head(20).values\n",
    "top_5_city_data = travel_data[travel_data['Name'].isin(top_5_city)]\n",
    "plt.figure(figsize=(10,5))\n",
    "sns.countplot(y='Name', hue='Best Time to visit', data=top_5_city_data)\n",
    "plt.title('Places with Best Time to Visit')\n",
    "plt.show()"
   ]
  },
  {
   "cell_type": "code",
   "execution_count": null,
   "id": "483129f9",
   "metadata": {},
   "outputs": [],
   "source": [
    "city_name = travel_data['Name'].sample(20).values\n",
    "city_name_data = travel_data[travel_data['Name'].isin(city_name)]\n",
    "\n",
    "plt.figure(figsize=(10,5))\n",
    "sns.countplot(y='Name', hue='Best Time to visit', data=city_name_data)\n",
    "plt.title('Places with Best Time to Visit')\n",
    "plt.show()\n"
   ]
  },
  {
   "cell_type": "markdown",
   "id": "a8b1969f",
   "metadata": {},
   "source": [
    "# TYPE OF PLACES DSLR (CAMERA) IS PERMITTED"
   ]
  },
  {
   "cell_type": "code",
   "execution_count": null,
   "id": "210d7603",
   "metadata": {},
   "outputs": [],
   "source": [
    "plt.figure(figsize=(10,5))\n",
    "sns.countplot(y='Significance',hue='DSLR Allowed',data=travel_data)"
   ]
  },
  {
   "cell_type": "markdown",
   "id": "1d1535d4",
   "metadata": {},
   "source": [
    "#  TIME REQUIRED TO VISIT DIFFERENT TYPES OF PLACES"
   ]
  },
  {
   "cell_type": "code",
   "execution_count": null,
   "id": "5940b4e7",
   "metadata": {},
   "outputs": [],
   "source": [
    "plt.figure(figsize=(10, 7))\n",
    "\n",
    "# Box plot to show the distribution of 'Time Needed to Visit' by 'Significance'\n",
    "sns.boxplot(x='time needed to visit in hrs', y='Significance', data=travel_data, palette='Set3')\n",
    "plt.title('Distribution of Time Needed to Visit by Significance')\n",
    "plt.xlabel('Significance')\n",
    "plt.ylabel('Time Needed to Visit (hours)')\n",
    "plt.grid(True)\n",
    "plt.show()"
   ]
  },
  {
   "cell_type": "code",
   "execution_count": null,
   "id": "087cd1ec",
   "metadata": {
    "scrolled": false
   },
   "outputs": [],
   "source": [
    "# Distribution of Landmarks by Cultural Significance\n",
    "significance_counts = travel_data['Significance'].value_counts()\n",
    "\n",
    "plt.figure(figsize=(12, 8))\n",
    "sns.barplot(x=significance_counts, y=significance_counts.index)\n",
    "plt.title('Distribution of Landmarks by Cultural Significance')\n",
    "plt.xlabel('Number of Landmarks')\n",
    "plt.ylabel('Cultural Significance')\n",
    "plt.show()\n",
    "\n",
    "# For a more detailed analysis, let's also look at the distribution of cultural significance within the top 3 zones based on the number of landmarks\n",
    "top_3_zones = travel_data['Zone'].value_counts().head(3).index\n",
    "for zone in top_3_zones:\n",
    "    plt.figure(figsize=(10, 6), dpi=200)\n",
    "    zone_data = travel_data[travel_data['Zone'] == zone]\n",
    "    zone_significance_count = travel_data['Significance'].value_counts().head(10)\n",
    "    sns.barplot(x=zone_significance_count, y=zone_significance_count.index)\n",
    "    plt.title(f'Top 10 Cultural Significances in {zone} Zone')\n",
    "    plt.xlabel('Number of Landmarks')\n",
    "    plt.ylabel('Cultural Significance')\n",
    "    plt.show()"
   ]
  },
  {
   "cell_type": "code",
   "execution_count": null,
   "id": "6bed2d1a",
   "metadata": {},
   "outputs": [],
   "source": [
    "plt.figure(figsize=(25, 6))\n",
    "sns.barplot(x='State', y='Google review rating', data=travel_data, palette='pastel')\n",
    "plt.title('Average Google Review Rating by State')\n",
    "plt.xlabel('State')\n",
    "plt.ylabel('Average Google Review Rating')\n",
    "plt.xticks(rotation=45)\n",
    "plt.show()"
   ]
  },
  {
   "cell_type": "markdown",
   "id": "2f5e52d3",
   "metadata": {},
   "source": [
    "# TOP 10 ESTABLISHMENT TYPES "
   ]
  },
  {
   "cell_type": "code",
   "execution_count": null,
   "id": "48ca1b15",
   "metadata": {},
   "outputs": [],
   "source": [
    "top_types = travel_data['Type'].value_counts().nlargest(10).index\n",
    "plt.figure(figsize=(12, 6))\n",
    "sns.countplot(x='Type', data=travel_data[travel_data['Type'].isin(top_types)], order=top_types, palette='Set2')\n",
    "plt.title('Top Ten Establishments by Type')\n",
    "plt.xlabel('Establishment Type')\n",
    "plt.ylabel('Count')\n",
    "plt.xticks(rotation=45)\n",
    "plt.show()"
   ]
  },
  {
   "cell_type": "code",
   "execution_count": null,
   "id": "67f50544",
   "metadata": {},
   "outputs": [],
   "source": []
  }
 ],
 "metadata": {
  "kernelspec": {
   "display_name": "Python 3 (ipykernel)",
   "language": "python",
   "name": "python3"
  },
  "language_info": {
   "codemirror_mode": {
    "name": "ipython",
    "version": 3
   },
   "file_extension": ".py",
   "mimetype": "text/x-python",
   "name": "python",
   "nbconvert_exporter": "python",
   "pygments_lexer": "ipython3",
   "version": "3.11.5"
  }
 },
 "nbformat": 4,
 "nbformat_minor": 5
}
